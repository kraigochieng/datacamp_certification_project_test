{
 "cells": [
  {
   "cell_type": "code",
   "execution_count": 630,
   "metadata": {},
   "outputs": [],
   "source": [
    "# Installing requirements\n",
    "# %pip install -r requirements.txt"
   ]
  },
  {
   "cell_type": "code",
   "execution_count": 631,
   "metadata": {},
   "outputs": [],
   "source": [
    "import pandas as pd\n",
    "import numpy as np\n",
    "import seaborn as sns\n",
    "import matplotlib.pyplot as plt\n",
    "%matplotlib inline\n",
    "sns.set_style(\"whitegrid\")"
   ]
  },
  {
   "cell_type": "code",
   "execution_count": 632,
   "metadata": {},
   "outputs": [],
   "source": [
    "df = pd.read_csv('recipe_site_traffic_2212.csv')"
   ]
  },
  {
   "cell_type": "code",
   "execution_count": 633,
   "metadata": {},
   "outputs": [
    {
     "data": {
      "text/plain": [
       "(947, 8)"
      ]
     },
     "execution_count": 633,
     "metadata": {},
     "output_type": "execute_result"
    }
   ],
   "source": [
    "# Size of dataset\n",
    "df.shape"
   ]
  },
  {
   "cell_type": "code",
   "execution_count": 634,
   "metadata": {},
   "outputs": [
    {
     "data": {
      "text/html": [
       "<div>\n",
       "<style scoped>\n",
       "    .dataframe tbody tr th:only-of-type {\n",
       "        vertical-align: middle;\n",
       "    }\n",
       "\n",
       "    .dataframe tbody tr th {\n",
       "        vertical-align: top;\n",
       "    }\n",
       "\n",
       "    .dataframe thead th {\n",
       "        text-align: right;\n",
       "    }\n",
       "</style>\n",
       "<table border=\"1\" class=\"dataframe\">\n",
       "  <thead>\n",
       "    <tr style=\"text-align: right;\">\n",
       "      <th></th>\n",
       "      <th>recipe</th>\n",
       "      <th>calories</th>\n",
       "      <th>carbohydrate</th>\n",
       "      <th>sugar</th>\n",
       "      <th>protein</th>\n",
       "      <th>category</th>\n",
       "      <th>servings</th>\n",
       "      <th>high_traffic</th>\n",
       "    </tr>\n",
       "  </thead>\n",
       "  <tbody>\n",
       "    <tr>\n",
       "      <th>0</th>\n",
       "      <td>1</td>\n",
       "      <td>NaN</td>\n",
       "      <td>NaN</td>\n",
       "      <td>NaN</td>\n",
       "      <td>NaN</td>\n",
       "      <td>Pork</td>\n",
       "      <td>6</td>\n",
       "      <td>High</td>\n",
       "    </tr>\n",
       "    <tr>\n",
       "      <th>1</th>\n",
       "      <td>2</td>\n",
       "      <td>35.48</td>\n",
       "      <td>38.56</td>\n",
       "      <td>0.66</td>\n",
       "      <td>0.92</td>\n",
       "      <td>Potato</td>\n",
       "      <td>4</td>\n",
       "      <td>High</td>\n",
       "    </tr>\n",
       "    <tr>\n",
       "      <th>2</th>\n",
       "      <td>3</td>\n",
       "      <td>914.28</td>\n",
       "      <td>42.68</td>\n",
       "      <td>3.09</td>\n",
       "      <td>2.88</td>\n",
       "      <td>Breakfast</td>\n",
       "      <td>1</td>\n",
       "      <td>NaN</td>\n",
       "    </tr>\n",
       "    <tr>\n",
       "      <th>3</th>\n",
       "      <td>4</td>\n",
       "      <td>97.03</td>\n",
       "      <td>30.56</td>\n",
       "      <td>38.63</td>\n",
       "      <td>0.02</td>\n",
       "      <td>Beverages</td>\n",
       "      <td>4</td>\n",
       "      <td>High</td>\n",
       "    </tr>\n",
       "    <tr>\n",
       "      <th>4</th>\n",
       "      <td>5</td>\n",
       "      <td>27.05</td>\n",
       "      <td>1.85</td>\n",
       "      <td>0.80</td>\n",
       "      <td>0.53</td>\n",
       "      <td>Beverages</td>\n",
       "      <td>4</td>\n",
       "      <td>NaN</td>\n",
       "    </tr>\n",
       "  </tbody>\n",
       "</table>\n",
       "</div>"
      ],
      "text/plain": [
       "   recipe  calories  carbohydrate  sugar  protein   category servings  \\\n",
       "0       1       NaN           NaN    NaN      NaN       Pork        6   \n",
       "1       2     35.48         38.56   0.66     0.92     Potato        4   \n",
       "2       3    914.28         42.68   3.09     2.88  Breakfast        1   \n",
       "3       4     97.03         30.56  38.63     0.02  Beverages        4   \n",
       "4       5     27.05          1.85   0.80     0.53  Beverages        4   \n",
       "\n",
       "  high_traffic  \n",
       "0         High  \n",
       "1         High  \n",
       "2          NaN  \n",
       "3         High  \n",
       "4          NaN  "
      ]
     },
     "execution_count": 634,
     "metadata": {},
     "output_type": "execute_result"
    }
   ],
   "source": [
    "df.head()"
   ]
  },
  {
   "cell_type": "code",
   "execution_count": 635,
   "metadata": {},
   "outputs": [],
   "source": [
    "df.drop(columns=[\"recipe\"], inplace=True)"
   ]
  },
  {
   "cell_type": "code",
   "execution_count": 636,
   "metadata": {},
   "outputs": [
    {
     "data": {
      "text/plain": [
       "calories        float64\n",
       "carbohydrate    float64\n",
       "sugar           float64\n",
       "protein         float64\n",
       "category         object\n",
       "servings         object\n",
       "high_traffic     object\n",
       "dtype: object"
      ]
     },
     "execution_count": 636,
     "metadata": {},
     "output_type": "execute_result"
    }
   ],
   "source": [
    "# Checking data types\n",
    "\n",
    "df.dtypes"
   ]
  },
  {
   "cell_type": "code",
   "execution_count": 637,
   "metadata": {},
   "outputs": [],
   "source": [
    "# df[\"servings\"] = pd.to_numeric(df[\"servings\"]).astype(int)"
   ]
  },
  {
   "cell_type": "code",
   "execution_count": 638,
   "metadata": {},
   "outputs": [],
   "source": [
    "# Replace null with \"0\"\n",
    "df[\"high_traffic\"] = df[\"high_traffic\"].fillna(\"0\")\n",
    "# Replace \"High\" with \"1\"\n",
    "df[\"high_traffic\"] = df[\"high_traffic\"].replace(\"High\", \"1\")\n",
    "# COnvert to int\n",
    "df[\"high_traffic\"] = pd.to_numeric(df[\"high_traffic\"]).astype(int)\n"
   ]
  },
  {
   "cell_type": "code",
   "execution_count": 639,
   "metadata": {},
   "outputs": [
    {
     "data": {
      "text/html": [
       "<div>\n",
       "<style scoped>\n",
       "    .dataframe tbody tr th:only-of-type {\n",
       "        vertical-align: middle;\n",
       "    }\n",
       "\n",
       "    .dataframe tbody tr th {\n",
       "        vertical-align: top;\n",
       "    }\n",
       "\n",
       "    .dataframe thead th {\n",
       "        text-align: right;\n",
       "    }\n",
       "</style>\n",
       "<table border=\"1\" class=\"dataframe\">\n",
       "  <thead>\n",
       "    <tr style=\"text-align: right;\">\n",
       "      <th></th>\n",
       "      <th>calories</th>\n",
       "      <th>carbohydrate</th>\n",
       "      <th>sugar</th>\n",
       "      <th>protein</th>\n",
       "      <th>category</th>\n",
       "      <th>servings</th>\n",
       "      <th>high_traffic</th>\n",
       "    </tr>\n",
       "  </thead>\n",
       "  <tbody>\n",
       "    <tr>\n",
       "      <th>0</th>\n",
       "      <td>NaN</td>\n",
       "      <td>NaN</td>\n",
       "      <td>NaN</td>\n",
       "      <td>NaN</td>\n",
       "      <td>Pork</td>\n",
       "      <td>6</td>\n",
       "      <td>1</td>\n",
       "    </tr>\n",
       "    <tr>\n",
       "      <th>1</th>\n",
       "      <td>35.48</td>\n",
       "      <td>38.56</td>\n",
       "      <td>0.66</td>\n",
       "      <td>0.92</td>\n",
       "      <td>Potato</td>\n",
       "      <td>4</td>\n",
       "      <td>1</td>\n",
       "    </tr>\n",
       "    <tr>\n",
       "      <th>2</th>\n",
       "      <td>914.28</td>\n",
       "      <td>42.68</td>\n",
       "      <td>3.09</td>\n",
       "      <td>2.88</td>\n",
       "      <td>Breakfast</td>\n",
       "      <td>1</td>\n",
       "      <td>0</td>\n",
       "    </tr>\n",
       "    <tr>\n",
       "      <th>3</th>\n",
       "      <td>97.03</td>\n",
       "      <td>30.56</td>\n",
       "      <td>38.63</td>\n",
       "      <td>0.02</td>\n",
       "      <td>Beverages</td>\n",
       "      <td>4</td>\n",
       "      <td>1</td>\n",
       "    </tr>\n",
       "    <tr>\n",
       "      <th>4</th>\n",
       "      <td>27.05</td>\n",
       "      <td>1.85</td>\n",
       "      <td>0.80</td>\n",
       "      <td>0.53</td>\n",
       "      <td>Beverages</td>\n",
       "      <td>4</td>\n",
       "      <td>0</td>\n",
       "    </tr>\n",
       "  </tbody>\n",
       "</table>\n",
       "</div>"
      ],
      "text/plain": [
       "   calories  carbohydrate  sugar  protein   category servings  high_traffic\n",
       "0       NaN           NaN    NaN      NaN       Pork        6             1\n",
       "1     35.48         38.56   0.66     0.92     Potato        4             1\n",
       "2    914.28         42.68   3.09     2.88  Breakfast        1             0\n",
       "3     97.03         30.56  38.63     0.02  Beverages        4             1\n",
       "4     27.05          1.85   0.80     0.53  Beverages        4             0"
      ]
     },
     "execution_count": 639,
     "metadata": {},
     "output_type": "execute_result"
    }
   ],
   "source": [
    "df.head()"
   ]
  },
  {
   "cell_type": "code",
   "execution_count": 640,
   "metadata": {},
   "outputs": [
    {
     "data": {
      "text/plain": [
       "calories        5.491024\n",
       "carbohydrate    5.491024\n",
       "sugar           5.491024\n",
       "protein         5.491024\n",
       "category        0.000000\n",
       "servings        0.000000\n",
       "high_traffic    0.000000\n",
       "dtype: float64"
      ]
     },
     "execution_count": 640,
     "metadata": {},
     "output_type": "execute_result"
    }
   ],
   "source": [
    "# Percentage of missing values\n",
    "df.isna().sum() / len(df) * 100"
   ]
  },
  {
   "cell_type": "code",
   "execution_count": 641,
   "metadata": {},
   "outputs": [
    {
     "data": {
      "text/html": [
       "<div>\n",
       "<style scoped>\n",
       "    .dataframe tbody tr th:only-of-type {\n",
       "        vertical-align: middle;\n",
       "    }\n",
       "\n",
       "    .dataframe tbody tr th {\n",
       "        vertical-align: top;\n",
       "    }\n",
       "\n",
       "    .dataframe thead th {\n",
       "        text-align: right;\n",
       "    }\n",
       "</style>\n",
       "<table border=\"1\" class=\"dataframe\">\n",
       "  <thead>\n",
       "    <tr style=\"text-align: right;\">\n",
       "      <th></th>\n",
       "      <th>calories</th>\n",
       "      <th>carbohydrate</th>\n",
       "      <th>sugar</th>\n",
       "      <th>protein</th>\n",
       "      <th>category</th>\n",
       "      <th>servings</th>\n",
       "      <th>high_traffic</th>\n",
       "    </tr>\n",
       "  </thead>\n",
       "  <tbody>\n",
       "    <tr>\n",
       "      <th>0</th>\n",
       "      <td>NaN</td>\n",
       "      <td>NaN</td>\n",
       "      <td>NaN</td>\n",
       "      <td>NaN</td>\n",
       "      <td>Pork</td>\n",
       "      <td>6</td>\n",
       "      <td>1</td>\n",
       "    </tr>\n",
       "    <tr>\n",
       "      <th>23</th>\n",
       "      <td>NaN</td>\n",
       "      <td>NaN</td>\n",
       "      <td>NaN</td>\n",
       "      <td>NaN</td>\n",
       "      <td>Meat</td>\n",
       "      <td>2</td>\n",
       "      <td>0</td>\n",
       "    </tr>\n",
       "    <tr>\n",
       "      <th>48</th>\n",
       "      <td>NaN</td>\n",
       "      <td>NaN</td>\n",
       "      <td>NaN</td>\n",
       "      <td>NaN</td>\n",
       "      <td>Chicken Breast</td>\n",
       "      <td>4</td>\n",
       "      <td>0</td>\n",
       "    </tr>\n",
       "    <tr>\n",
       "      <th>82</th>\n",
       "      <td>NaN</td>\n",
       "      <td>NaN</td>\n",
       "      <td>NaN</td>\n",
       "      <td>NaN</td>\n",
       "      <td>Meat</td>\n",
       "      <td>4</td>\n",
       "      <td>1</td>\n",
       "    </tr>\n",
       "    <tr>\n",
       "      <th>89</th>\n",
       "      <td>NaN</td>\n",
       "      <td>NaN</td>\n",
       "      <td>NaN</td>\n",
       "      <td>NaN</td>\n",
       "      <td>Pork</td>\n",
       "      <td>6</td>\n",
       "      <td>1</td>\n",
       "    </tr>\n",
       "  </tbody>\n",
       "</table>\n",
       "</div>"
      ],
      "text/plain": [
       "    calories  carbohydrate  sugar  protein        category servings  \\\n",
       "0        NaN           NaN    NaN      NaN            Pork        6   \n",
       "23       NaN           NaN    NaN      NaN            Meat        2   \n",
       "48       NaN           NaN    NaN      NaN  Chicken Breast        4   \n",
       "82       NaN           NaN    NaN      NaN            Meat        4   \n",
       "89       NaN           NaN    NaN      NaN            Pork        6   \n",
       "\n",
       "    high_traffic  \n",
       "0              1  \n",
       "23             0  \n",
       "48             0  \n",
       "82             1  \n",
       "89             1  "
      ]
     },
     "execution_count": 641,
     "metadata": {},
     "output_type": "execute_result"
    }
   ],
   "source": [
    "df[df[\"calories\"].isna()].head()"
   ]
  },
  {
   "cell_type": "markdown",
   "metadata": {},
   "source": [
    "It appears that `calories`, `carbohydrate`, `sugar`, `protein` always miss together\n",
    "\n",
    "My strategy to fill in null values\n",
    "1. Split rows based on `category`\n",
    "2. Plot distributions of columns above to determine what measure of central tendency will be used to impute i.e mean, mode, median.\n",
    "- Plotting is to check for _skew_ and _modality_\n",
    "3. Impute accordingly"
   ]
  },
  {
   "cell_type": "markdown",
   "metadata": {},
   "source": [
    "# Handling missing values"
   ]
  },
  {
   "cell_type": "code",
   "execution_count": 642,
   "metadata": {},
   "outputs": [],
   "source": [
    "columns_with_missing_values = [\"calories\", \"carbohydrate\", \"sugar\", \"protein\"]\n",
    "\n",
    "# for column in columns_with_missing_values:\n",
    "#     sns.kdeplot(x=df[column], hue=df[\"category\"], fill=True)\n",
    "#     plt.title(f\"Distribution of {column} per food category\")\n",
    "#     plt.show()\n"
   ]
  },
  {
   "cell_type": "markdown",
   "metadata": {},
   "source": [
    "Data is left skewed for all food categories, the median shall be used for imputation"
   ]
  },
  {
   "cell_type": "code",
   "execution_count": 643,
   "metadata": {},
   "outputs": [],
   "source": [
    "for column in columns_with_missing_values:\n",
    "    df[column] = df[column].fillna(df[column].median())   "
   ]
  },
  {
   "cell_type": "markdown",
   "metadata": {},
   "source": [
    "# Handling duplicate values"
   ]
  },
  {
   "cell_type": "code",
   "execution_count": 644,
   "metadata": {},
   "outputs": [
    {
     "data": {
      "text/plain": [
       "np.int64(23)"
      ]
     },
     "execution_count": 644,
     "metadata": {},
     "output_type": "execute_result"
    }
   ],
   "source": [
    "df.duplicated().sum()"
   ]
  },
  {
   "cell_type": "markdown",
   "metadata": {},
   "source": [
    "There are no duplicate values"
   ]
  },
  {
   "cell_type": "markdown",
   "metadata": {},
   "source": [
    "# Checking class imbalance"
   ]
  },
  {
   "cell_type": "code",
   "execution_count": 645,
   "metadata": {},
   "outputs": [
    {
     "data": {
      "text/plain": [
       "high_traffic\n",
       "1    0.606125\n",
       "0    0.393875\n",
       "Name: proportion, dtype: float64"
      ]
     },
     "execution_count": 645,
     "metadata": {},
     "output_type": "execute_result"
    }
   ],
   "source": [
    "df[\"high_traffic\"].value_counts(normalize=True)"
   ]
  },
  {
   "cell_type": "markdown",
   "metadata": {},
   "source": [
    "# Check distributions of categorical columns"
   ]
  },
  {
   "cell_type": "code",
   "execution_count": 646,
   "metadata": {},
   "outputs": [],
   "source": [
    "categorical_columns = df.select_dtypes(include=[\"object\"]).columns\n",
    "\n",
    "categorical_columns_df = df.loc[:, categorical_columns]\n",
    "\n",
    "categorical_columns_df.loc[:, \"high_traffic\"] = df.loc[:, \"high_traffic\"]\n",
    "\n",
    "# for column in categorical_columns:\n",
    "#     fig, axes = plt.subplots(1, 2, figsize=(16, 6))\n",
    "\n",
    "#     sns.countplot(ax=axes[0], x=categorical_columns_df[column], stat=\"percent\")\n",
    "#     axes[0].set_title(f\"Count of {column}\")\n",
    "#     axes[0].tick_params(axis=\"x\", labelrotation=90)\n",
    "\n",
    "#     sns.countplot(\n",
    "#         ax=axes[1],\n",
    "#         x=categorical_columns_df[column],\n",
    "#         hue=df[\"high_traffic\"],\n",
    "#         stat=\"percent\",\n",
    "#     )\n",
    "    \n",
    "#     axes[1].set_title(f\"Count of {column} per high traffic\")\n",
    "#     axes[1].tick_params(axis=\"x\", labelrotation=90)\n",
    "\n",
    "#     plt.tight_layout()\n",
    "#     plt.show()"
   ]
  },
  {
   "cell_type": "markdown",
   "metadata": {},
   "source": [
    "# Checking distributions of numerical columns"
   ]
  },
  {
   "cell_type": "code",
   "execution_count": 647,
   "metadata": {},
   "outputs": [
    {
     "name": "stdout",
     "output_type": "stream",
     "text": [
      "Index(['calories', 'carbohydrate', 'sugar', 'protein'], dtype='object')\n"
     ]
    }
   ],
   "source": [
    "numerical_columns = df.select_dtypes(include=[\"float64\"]).columns\n",
    "print(numerical_columns)\n",
    "numerical_columns_df = df.loc[:, numerical_columns]\n",
    "numerical_columns_df.loc[:, \"high_traffic\"] = df.loc[:, \"high_traffic\"]\n",
    "\n",
    "# for column in numerical_columns:\n",
    "#     fig, axes = plt.subplots(1, 2, figsize=(16, 6))\n",
    "\n",
    "#     sns.histplot(ax=axes[0], x=numerical_columns_df[column], kde=True)\n",
    "#     skew = numerical_columns_df[column].skew()\n",
    "#     axes[0].set_title(f\"Count of {column}\")\n",
    "#     axes[0].tick_params(axis=\"x\", labelrotation=90)\n",
    "#     axes[0].text(\n",
    "#         0.5, 0.5, f\"Skew: {skew:.3f}\", transform=axes[0].transAxes, fontsize=12\n",
    "#     )\n",
    "#     sns.histplot(\n",
    "#         ax=axes[1],\n",
    "#         x=numerical_columns_df[column],\n",
    "#         hue=df[\"high_traffic\"],\n",
    "#         kde=True,\n",
    "#     )\n",
    "\n",
    "#     axes[1].set_title(f\"Count of {column} per high traffic\")\n",
    "#     axes[1].tick_params(axis=\"x\", labelrotation=90)\n",
    "#     axes[1].text(\n",
    "#         0.5, 0.5, f\"Skew: {skew:.3f}\", transform=axes[1].transAxes, fontsize=12\n",
    "#     )\n",
    "\n",
    "#     plt.tight_layout()\n",
    "#     plt.show()"
   ]
  },
  {
   "cell_type": "markdown",
   "metadata": {},
   "source": [
    "# Encoding categorical columns"
   ]
  },
  {
   "cell_type": "code",
   "execution_count": 648,
   "metadata": {},
   "outputs": [],
   "source": [
    "from sklearn.preprocessing import LabelEncoder\n",
    "\n",
    "label_encoder = LabelEncoder()\n",
    "\n",
    "for column in categorical_columns:\n",
    "    df[f\"{column}_encoded\"] = label_encoder.fit_transform(df[column])\n",
    "\n",
    "df = df.drop(columns=categorical_columns)"
   ]
  },
  {
   "cell_type": "markdown",
   "metadata": {},
   "source": [
    "# Transforming numerical columns"
   ]
  },
  {
   "cell_type": "code",
   "execution_count": 649,
   "metadata": {},
   "outputs": [
    {
     "name": "stdout",
     "output_type": "stream",
     "text": [
      "Boxcox transformation not possible for protein\n"
     ]
    }
   ],
   "source": [
    "from scipy.stats import boxcox, yeojohnson\n",
    "from sklearn.preprocessing import QuantileTransformer\n",
    "\n",
    "numerical_transformation_df = pd.DataFrame()\n",
    "\n",
    "for column in numerical_columns:\n",
    "    numerical_transformation_df[f\"log_{column}\"] = np.log1p(df[column])\n",
    "    numerical_transformation_df[f\"sqrt_{column}\"] = np.sqrt(df[column])\n",
    "    if df[column].min() > 0:\n",
    "        numerical_transformation_df[f\"boxcox_{column}\"], _ = boxcox(df[column])\n",
    "    else:\n",
    "        print(f\"Boxcox transformation not possible for {column}\")\n",
    "    numerical_transformation_df[f\"yeojohnson_{column}\"], _ = yeojohnson(df[column])\n",
    "\n",
    "    qt = QuantileTransformer(output_distribution=\"normal\", random_state=42, n_quantiles=100)\n",
    "    numerical_transformation_df[f\"quantile_{column}\"] = qt.fit_transform(\n",
    "        df[column].values.reshape(-1, 1)\n",
    "    )\n",
    "\n",
    "\n",
    "# for column in numerical_transformation_df.columns:\n",
    "#     sns.histplot(x=numerical_transformation_df[column], kde=True)\n",
    "        \n",
    "#     plt.show()"
   ]
  },
  {
   "cell_type": "code",
   "execution_count": 650,
   "metadata": {},
   "outputs": [
    {
     "name": "stdout",
     "output_type": "stream",
     "text": [
      "                         KS Statistic  P-Value\n",
      "log_calories                  0.09636  0.00000\n",
      "sqrt_calories                 0.08231  0.00000\n",
      "boxcox_calories               0.03382  0.22389\n",
      "yeojohnson_calories           0.03554  0.17836\n",
      "quantile_calories             0.02961  0.37041\n",
      "log_carbohydrate              0.06502  0.00064\n",
      "sqrt_carbohydrate             0.09433  0.00000\n",
      "boxcox_carbohydrate           0.03586  0.17090\n",
      "yeojohnson_carbohydrate       0.04335  0.05526\n",
      "quantile_carbohydrate         0.03007  0.35180\n",
      "log_sugar                     0.04667  0.03127\n",
      "sqrt_sugar                    0.12858  0.00000\n",
      "boxcox_sugar                  0.04537  0.03927\n",
      "yeojohnson_sugar              0.05404  0.00763\n",
      "quantile_sugar                0.03060  0.33130\n",
      "log_protein                   0.04769  0.02606\n",
      "sqrt_protein                  0.11778  0.00000\n",
      "yeojohnson_protein            0.04727  0.02812\n",
      "quantile_protein              0.03072  0.32668\n"
     ]
    }
   ],
   "source": [
    "from scipy.stats import kstest\n",
    "\n",
    "ks_test_results = dict()\n",
    "for transformation in numerical_transformation_df.columns:\n",
    "    standardized_data = (numerical_transformation_df[transformation] - numerical_transformation_df[transformation].mean()) / numerical_transformation_df[transformation].std()\n",
    "    ks_stat, ks_p_value = kstest(standardized_data, \"norm\")\n",
    "    ks_test_results[transformation] = (ks_stat, ks_p_value)\n",
    "\n",
    "\n",
    "ks_test_results_df = pd.DataFrame.from_dict(ks_test_results, orient=\"index\", columns=[\"KS Statistic\", \"P-Value\"])\n",
    "print(ks_test_results_df.round(5))"
   ]
  },
  {
   "cell_type": "code",
   "execution_count": 651,
   "metadata": {},
   "outputs": [
    {
     "data": {
      "text/html": [
       "<div>\n",
       "<style scoped>\n",
       "    .dataframe tbody tr th:only-of-type {\n",
       "        vertical-align: middle;\n",
       "    }\n",
       "\n",
       "    .dataframe tbody tr th {\n",
       "        vertical-align: top;\n",
       "    }\n",
       "\n",
       "    .dataframe thead th {\n",
       "        text-align: right;\n",
       "    }\n",
       "</style>\n",
       "<table border=\"1\" class=\"dataframe\">\n",
       "  <thead>\n",
       "    <tr style=\"text-align: right;\">\n",
       "      <th></th>\n",
       "      <th>high_traffic</th>\n",
       "      <th>category_encoded</th>\n",
       "      <th>servings_encoded</th>\n",
       "      <th>yeojohnson_calories</th>\n",
       "      <th>yeojohnson_carbohydrate</th>\n",
       "      <th>yeojohnson_sugar</th>\n",
       "      <th>yeojohnson_protein</th>\n",
       "    </tr>\n",
       "  </thead>\n",
       "  <tbody>\n",
       "    <tr>\n",
       "      <th>0</th>\n",
       "      <td>1</td>\n",
       "      <td>8</td>\n",
       "      <td>4</td>\n",
       "      <td>12.416265</td>\n",
       "      <td>3.651219</td>\n",
       "      <td>1.445558</td>\n",
       "      <td>2.489758</td>\n",
       "    </tr>\n",
       "    <tr>\n",
       "      <th>1</th>\n",
       "      <td>1</td>\n",
       "      <td>9</td>\n",
       "      <td>2</td>\n",
       "      <td>5.807194</td>\n",
       "      <td>4.444895</td>\n",
       "      <td>0.481424</td>\n",
       "      <td>0.653832</td>\n",
       "    </tr>\n",
       "    <tr>\n",
       "      <th>2</th>\n",
       "      <td>0</td>\n",
       "      <td>1</td>\n",
       "      <td>0</td>\n",
       "      <td>17.850869</td>\n",
       "      <td>4.588695</td>\n",
       "      <td>1.223738</td>\n",
       "      <td>1.362354</td>\n",
       "    </tr>\n",
       "    <tr>\n",
       "      <th>3</th>\n",
       "      <td>1</td>\n",
       "      <td>0</td>\n",
       "      <td>2</td>\n",
       "      <td>8.541219</td>\n",
       "      <td>4.122245</td>\n",
       "      <td>2.585342</td>\n",
       "      <td>0.019804</td>\n",
       "    </tr>\n",
       "    <tr>\n",
       "      <th>4</th>\n",
       "      <td>0</td>\n",
       "      <td>0</td>\n",
       "      <td>2</td>\n",
       "      <td>5.186333</td>\n",
       "      <td>1.104103</td>\n",
       "      <td>0.553815</td>\n",
       "      <td>0.425908</td>\n",
       "    </tr>\n",
       "    <tr>\n",
       "      <th>...</th>\n",
       "      <td>...</td>\n",
       "      <td>...</td>\n",
       "      <td>...</td>\n",
       "      <td>...</td>\n",
       "      <td>...</td>\n",
       "      <td>...</td>\n",
       "      <td>...</td>\n",
       "    </tr>\n",
       "    <tr>\n",
       "      <th>942</th>\n",
       "      <td>0</td>\n",
       "      <td>5</td>\n",
       "      <td>1</td>\n",
       "      <td>19.185508</td>\n",
       "      <td>2.022643</td>\n",
       "      <td>2.323103</td>\n",
       "      <td>3.863357</td>\n",
       "    </tr>\n",
       "    <tr>\n",
       "      <th>943</th>\n",
       "      <td>1</td>\n",
       "      <td>9</td>\n",
       "      <td>1</td>\n",
       "      <td>12.416265</td>\n",
       "      <td>3.651219</td>\n",
       "      <td>1.445558</td>\n",
       "      <td>2.489758</td>\n",
       "    </tr>\n",
       "    <tr>\n",
       "      <th>944</th>\n",
       "      <td>1</td>\n",
       "      <td>8</td>\n",
       "      <td>1</td>\n",
       "      <td>18.069689</td>\n",
       "      <td>4.070391</td>\n",
       "      <td>1.305983</td>\n",
       "      <td>2.725267</td>\n",
       "    </tr>\n",
       "    <tr>\n",
       "      <th>945</th>\n",
       "      <td>1</td>\n",
       "      <td>9</td>\n",
       "      <td>4</td>\n",
       "      <td>12.097893</td>\n",
       "      <td>4.339650</td>\n",
       "      <td>0.633101</td>\n",
       "      <td>2.222248</td>\n",
       "    </tr>\n",
       "    <tr>\n",
       "      <th>946</th>\n",
       "      <td>0</td>\n",
       "      <td>0</td>\n",
       "      <td>2</td>\n",
       "      <td>10.697467</td>\n",
       "      <td>4.671059</td>\n",
       "      <td>1.624057</td>\n",
       "      <td>0.029562</td>\n",
       "    </tr>\n",
       "  </tbody>\n",
       "</table>\n",
       "<p>947 rows × 7 columns</p>\n",
       "</div>"
      ],
      "text/plain": [
       "     high_traffic  category_encoded  servings_encoded  yeojohnson_calories  \\\n",
       "0               1                 8                 4            12.416265   \n",
       "1               1                 9                 2             5.807194   \n",
       "2               0                 1                 0            17.850869   \n",
       "3               1                 0                 2             8.541219   \n",
       "4               0                 0                 2             5.186333   \n",
       "..            ...               ...               ...                  ...   \n",
       "942             0                 5                 1            19.185508   \n",
       "943             1                 9                 1            12.416265   \n",
       "944             1                 8                 1            18.069689   \n",
       "945             1                 9                 4            12.097893   \n",
       "946             0                 0                 2            10.697467   \n",
       "\n",
       "     yeojohnson_carbohydrate  yeojohnson_sugar  yeojohnson_protein  \n",
       "0                   3.651219          1.445558            2.489758  \n",
       "1                   4.444895          0.481424            0.653832  \n",
       "2                   4.588695          1.223738            1.362354  \n",
       "3                   4.122245          2.585342            0.019804  \n",
       "4                   1.104103          0.553815            0.425908  \n",
       "..                       ...               ...                 ...  \n",
       "942                 2.022643          2.323103            3.863357  \n",
       "943                 3.651219          1.445558            2.489758  \n",
       "944                 4.070391          1.305983            2.725267  \n",
       "945                 4.339650          0.633101            2.222248  \n",
       "946                 4.671059          1.624057            0.029562  \n",
       "\n",
       "[947 rows x 7 columns]"
      ]
     },
     "execution_count": 651,
     "metadata": {},
     "output_type": "execute_result"
    }
   ],
   "source": [
    "yeojohnson_columns = numerical_transformation_df.filter(like=\"yeojohnson\")\n",
    "\n",
    "df = pd.concat([df, yeojohnson_columns], axis=1)\n",
    "df = df.drop(columns=numerical_columns)\n",
    "df"
   ]
  },
  {
   "cell_type": "markdown",
   "metadata": {},
   "source": [
    "# Scaling numerical columns"
   ]
  },
  {
   "cell_type": "code",
   "execution_count": 652,
   "metadata": {},
   "outputs": [],
   "source": [
    "from sklearn.preprocessing import StandardScaler, MinMaxScaler, RobustScaler\n",
    "\n",
    "scaler = RobustScaler()\n",
    "numerical_columns = yeojohnson_columns.columns.to_list()\n",
    "df[numerical_columns] = scaler.fit_transform(df[numerical_columns])"
   ]
  },
  {
   "cell_type": "markdown",
   "metadata": {},
   "source": [
    "# Dimensionality Reduction"
   ]
  },
  {
   "cell_type": "code",
   "execution_count": 653,
   "metadata": {},
   "outputs": [],
   "source": [
    "from sklearn.decomposition import PCA\n",
    "\n",
    "# Apply PCA\n",
    "pca = PCA(n_components=2, random_state=42)  # Retain 95% of variance\n",
    "pca_transformed = pca.fit_transform(df[numerical_columns])\n",
    "pca_columns = [f\"pca_{i}\" for i in range(pca_transformed.shape[1])]\n",
    "df_pca = pd.DataFrame(pca_transformed, columns=pca_columns)\n",
    "\n",
    "# Combine the PCA-transformed columns with the original DataFrame\n",
    "df = pd.concat([df.drop(columns=numerical_columns), df_pca], axis=1)"
   ]
  },
  {
   "cell_type": "markdown",
   "metadata": {},
   "source": [
    "# Model Training"
   ]
  },
  {
   "cell_type": "code",
   "execution_count": 654,
   "metadata": {},
   "outputs": [
    {
     "data": {
      "text/html": [
       "<div>\n",
       "<style scoped>\n",
       "    .dataframe tbody tr th:only-of-type {\n",
       "        vertical-align: middle;\n",
       "    }\n",
       "\n",
       "    .dataframe tbody tr th {\n",
       "        vertical-align: top;\n",
       "    }\n",
       "\n",
       "    .dataframe thead th {\n",
       "        text-align: right;\n",
       "    }\n",
       "</style>\n",
       "<table border=\"1\" class=\"dataframe\">\n",
       "  <thead>\n",
       "    <tr style=\"text-align: right;\">\n",
       "      <th></th>\n",
       "      <th>high_traffic</th>\n",
       "      <th>category_encoded</th>\n",
       "      <th>servings_encoded</th>\n",
       "      <th>pca_0</th>\n",
       "      <th>pca_1</th>\n",
       "    </tr>\n",
       "  </thead>\n",
       "  <tbody>\n",
       "    <tr>\n",
       "      <th>0</th>\n",
       "      <td>1</td>\n",
       "      <td>8</td>\n",
       "      <td>4</td>\n",
       "      <td>-0.007781</td>\n",
       "      <td>0.028653</td>\n",
       "    </tr>\n",
       "    <tr>\n",
       "      <th>1</th>\n",
       "      <td>1</td>\n",
       "      <td>9</td>\n",
       "      <td>2</td>\n",
       "      <td>-0.817439</td>\n",
       "      <td>0.309785</td>\n",
       "    </tr>\n",
       "    <tr>\n",
       "      <th>2</th>\n",
       "      <td>0</td>\n",
       "      <td>1</td>\n",
       "      <td>0</td>\n",
       "      <td>0.303468</td>\n",
       "      <td>0.398123</td>\n",
       "    </tr>\n",
       "    <tr>\n",
       "      <th>3</th>\n",
       "      <td>1</td>\n",
       "      <td>0</td>\n",
       "      <td>2</td>\n",
       "      <td>-1.725841</td>\n",
       "      <td>0.065245</td>\n",
       "    </tr>\n",
       "    <tr>\n",
       "      <th>4</th>\n",
       "      <td>0</td>\n",
       "      <td>0</td>\n",
       "      <td>2</td>\n",
       "      <td>-0.848664</td>\n",
       "      <td>-1.375484</td>\n",
       "    </tr>\n",
       "  </tbody>\n",
       "</table>\n",
       "</div>"
      ],
      "text/plain": [
       "   high_traffic  category_encoded  servings_encoded     pca_0     pca_1\n",
       "0             1                 8                 4 -0.007781  0.028653\n",
       "1             1                 9                 2 -0.817439  0.309785\n",
       "2             0                 1                 0  0.303468  0.398123\n",
       "3             1                 0                 2 -1.725841  0.065245\n",
       "4             0                 0                 2 -0.848664 -1.375484"
      ]
     },
     "execution_count": 654,
     "metadata": {},
     "output_type": "execute_result"
    }
   ],
   "source": [
    "df.head()"
   ]
  },
  {
   "cell_type": "code",
   "execution_count": 662,
   "metadata": {},
   "outputs": [
    {
     "name": "stdout",
     "output_type": "stream",
     "text": [
      "Fitting 5 folds for each of 10 candidates, totalling 50 fits\n",
      "Best parameters found:\n",
      "{'n_estimators': 200, 'min_samples_split': 15, 'min_samples_leaf': 4, 'max_features': 'log2', 'max_depth': 10}\n",
      "\n",
      "Classification Report:\n",
      "              precision    recall  f1-score   support\n",
      "\n",
      "           0       0.78      0.58      0.67        77\n",
      "           1       0.76      0.88      0.82       113\n",
      "\n",
      "    accuracy                           0.76       190\n",
      "   macro avg       0.77      0.73      0.74       190\n",
      "weighted avg       0.76      0.76      0.76       190\n",
      "\n"
     ]
    }
   ],
   "source": [
    "from sklearn.ensemble import RandomForestClassifier\n",
    "from sklearn.model_selection import GridSearchCV, train_test_split, RandomizedSearchCV\n",
    "from sklearn.metrics import classification_report, confusion_matrix\n",
    "\n",
    "X = df.drop(columns=[\"high_traffic\"])\n",
    "y = df[\"high_traffic\"]\n",
    "\n",
    "X_train, X_test, y_train, y_test = train_test_split(\n",
    "    X, y, test_size=0.2, random_state=42\n",
    ")\n",
    "\n",
    "param_grid = {\n",
    "    \"n_estimators\": [100, 200, 300],  # Number of trees in the forest\n",
    "    \"max_depth\": [None, 10, 20, 30],  # Maximum depth of the trees\n",
    "    \"min_samples_split\": [\n",
    "        10,\n",
    "        15,\n",
    "    ],  # Minimum number of samples required to split an internal node\n",
    "    \"min_samples_leaf\": [\n",
    "        4,\n",
    "        6,\n",
    "    ],  # Minimum number of samples required to be at a leaf node\n",
    "    \"max_features\": [None, \"log2\", \"sqrt\", 0.5],\n",
    "}\n",
    "\n",
    "rf_classifier = RandomForestClassifier(random_state=42)\n",
    "\n",
    "grid_search = RandomizedSearchCV(\n",
    "    estimator=rf_classifier, param_distributions=param_grid, cv=5, n_jobs=-1, verbose=1\n",
    ")\n",
    "\n",
    "grid_search.fit(X_train, y_train)\n",
    "\n",
    "# Best parameters found\n",
    "print(\"Best parameters found:\")\n",
    "print(grid_search.best_params_)\n",
    "print()\n",
    "\n",
    "# Evaluate on test set with best estimator\n",
    "best_rf = grid_search.best_estimator_\n",
    "y_pred = best_rf.predict(X_test)\n",
    "\n",
    "# Classification report\n",
    "print(\"Classification Report:\")\n",
    "print(classification_report(y_test, y_pred))"
   ]
  }
 ],
 "metadata": {
  "kernelspec": {
   "display_name": "datacamp_project_test",
   "language": "python",
   "name": "python3"
  },
  "language_info": {
   "codemirror_mode": {
    "name": "ipython",
    "version": 3
   },
   "file_extension": ".py",
   "mimetype": "text/x-python",
   "name": "python",
   "nbconvert_exporter": "python",
   "pygments_lexer": "ipython3",
   "version": "3.10.14"
  }
 },
 "nbformat": 4,
 "nbformat_minor": 2
}
